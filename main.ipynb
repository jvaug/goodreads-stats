{
 "cells": [
  {
   "cell_type": "code",
   "execution_count": 1,
   "metadata": {
    "collapsed": true
   },
   "outputs": [],
   "source": [
    "import keys\n",
    "\n",
    "key = keys.key\n",
    "secret = keys.secret"
   ]
  },
  {
   "cell_type": "code",
   "execution_count": 56,
   "metadata": {
    "collapsed": true
   },
   "outputs": [],
   "source": [
    "import betterreads\n",
    "import time"
   ]
  },
  {
   "cell_type": "code",
   "execution_count": 3,
   "metadata": {
    "collapsed": false
   },
   "outputs": [],
   "source": [
    "from betterreads import client\n",
    "gc = client.GoodreadsClient(key, secret)"
   ]
  },
  {
   "cell_type": "code",
   "execution_count": 4,
   "metadata": {
    "collapsed": true
   },
   "outputs": [],
   "source": [
    "userid = 10463655\n",
    "user = gc.user(userid)"
   ]
  },
  {
   "cell_type": "code",
   "execution_count": 5,
   "metadata": {
    "collapsed": false
   },
   "outputs": [
    {
     "data": {
      "text/plain": [
       "'Jerry'"
      ]
     },
     "execution_count": 5,
     "metadata": {},
     "output_type": "execute_result"
    }
   ],
   "source": [
    "user.name"
   ]
  },
  {
   "cell_type": "code",
   "execution_count": 6,
   "metadata": {
    "collapsed": false
   },
   "outputs": [],
   "source": [
    "user = gc.user(username='jvaug')"
   ]
  },
  {
   "cell_type": "code",
   "execution_count": 7,
   "metadata": {
    "collapsed": false
   },
   "outputs": [
    {
     "data": {
      "text/plain": [
       "'jvaug'"
      ]
     },
     "execution_count": 7,
     "metadata": {},
     "output_type": "execute_result"
    }
   ],
   "source": [
    "user.user_name"
   ]
  },
  {
   "cell_type": "code",
   "execution_count": 8,
   "metadata": {
    "collapsed": false
   },
   "outputs": [],
   "source": [
    "shelves = user.shelves()"
   ]
  },
  {
   "cell_type": "code",
   "execution_count": 9,
   "metadata": {
    "collapsed": false,
    "scrolled": true
   },
   "outputs": [
    {
     "data": {
      "text/plain": [
       "[read,\n",
       " currently-reading,\n",
       " to-read,\n",
       " books-over-beers,\n",
       " ds,\n",
       " fit-readinglist,\n",
       " read-2012,\n",
       " read-2013,\n",
       " read-2014,\n",
       " read-2015,\n",
       " read-2016,\n",
       " read-2017,\n",
       " read-2018]"
      ]
     },
     "execution_count": 9,
     "metadata": {},
     "output_type": "execute_result"
    }
   ],
   "source": [
    "shelves"
   ]
  },
  {
   "cell_type": "code",
   "execution_count": 13,
   "metadata": {
    "collapsed": false
   },
   "outputs": [],
   "source": [
    "read_list = user.per_shelf_reviews(page=1, per_page=200, shelf_name=\"read\")"
   ]
  },
  {
   "cell_type": "code",
   "execution_count": 14,
   "metadata": {
    "collapsed": false
   },
   "outputs": [
    {
     "name": "stdout",
     "output_type": "stream",
     "text": [
      "[review [2538933945], review [2537283038], review [2529641532], review [2527281094], review [2467232889], review [2437619239], review [2436169279], review [2398569962], review [2362437836], review [2328856084], review [2308542943], review [2268311885], review [2262541804], review [2253186649], review [2216358963], review [2161197891], review [2153533135], review [2109910216], review [2109860720], review [2107863230], review [2100995853], review [2071160217], review [1995093655], review [1995092157], review [1994797956], review [1944350988], review [1938905221], review [1871964250], review [1837429519], review [1791327863], review [1787678687], review [1780989556], review [1774625250], review [1765380968], review [1738991243], review [1717010430], review [1716933823], review [1710662602], review [1704828856], review [1704827946], review [1699285454], review [1693062319], review [1661564694], review [1654562541], review [1648436734], review [1646967300], review [1644872942], review [1640085579], review [1635528531], review [1502541278], review [1468912665], review [1449890615], review [1446659714], review [1445353011], review [1401171682], review [1137845883], review [1137845225], review [1051165343], review [1036461860], review [1031429897], review [1027830419], review [1026867301], review [1021686780], review [1013540852], review [1011574452], review [992587438], review [978716868], review [951996460], review [937439473], review [935413287], review [899320633], review [898481165], review [884605748], review [884605447], review [880692420], review [880691586], review [875104750], review [871190672], review [847132551], review [847131558], review [847121257], review [843817758], review [719255751], review [712591793], review [704807211], review [701547818], review [697463764], review [662480588], review [652920914], review [619930009], review [617312409], review [614065494], review [550003932], review [550001306], review [550000030], review [549999320], review [541218756], review [489115686], review [489114411], review [489110520], review [489108337], review [489105270], review [489101607], review [476271711], review [443831522], review [416017385], review [414081503], review [413984906], review [411609278], review [387059855], review [374701942], review [372431658], review [371132597], review [371132381], review [370311919], review [367558779], review [359819307], review [358955666], review [358955577], review [358231009], review [358230162], review [355589970], review [355152516], review [355152275], review [355149086], review [355149069], review [355149020], review [355149011], review [355143081], review [355142949], review [355142902], review [355142062], review [355141887], review [355141568], review [355141300], review [355141186], review [355141067], review [355140819], review [355140651], review [355140193], review [355140179], review [355140158], review [355140139], review [355140129], review [355140122], review [355140071], review [355139816], review [355139210], review [355139105], review [355138619]]\n"
     ]
    }
   ],
   "source": [
    "print(read_list)"
   ]
  },
  {
   "cell_type": "code",
   "execution_count": 22,
   "metadata": {
    "collapsed": false
   },
   "outputs": [
    {
     "name": "stdout",
     "output_type": "stream",
     "text": [
      "{'id': {'@type': 'integer', '#text': '142181'}, 'isbn': '0060134216', 'isbn13': '9780060134211', 'text_reviews_count': {'@type': 'integer', '#text': '319'}, 'uri': 'kca://book/amzn1.gr.book.v1.RVKj5O2vRWTBnq624bCtog', 'title': 'The Inverted World', 'title_without_series': 'The Inverted World', 'image_url': 'https://s.gr-assets.com/assets/nophoto/book/111x148-bcc042a9c91a29c1d680899eff700a03.png', 'small_image_url': 'https://s.gr-assets.com/assets/nophoto/book/50x75-a91bf249278a81aabab721ef782c4a74.png', 'large_image_url': None, 'link': 'https://www.goodreads.com/book/show/142181.The_Inverted_World', 'num_pages': None, 'format': None, 'edition_information': None, 'publisher': 'Harper & Row (NYC)', 'publication_day': '28', 'publication_year': '1974', 'publication_month': '5', 'average_rating': '3.91', 'ratings_count': '6157', 'description': \"The city is winched along tracks through a devastated land full of hostile tribes. Rails must be freshly laid ahead of the city &amp; carefully removed in its wake. Rivers &amp; mountains present nearly insurmountable challenges to the ingenuity of the city's engineers. But if the city does not move, it will fall farther &amp; farther behind the optimum &amp; into the crushing gravitational field that has transformed life on Earth. The only alternative to progress is death. The secret directorate that governs the city makes sure that its inhabitants know nothing of this. Raised in common in creches, nurtured on synthetic food, prevented above all from venturing outside the closed circuit of the city, they're carefully sheltered from the dire necessities that have come to define human existence. Yet the city is in crisis. People are growing restive. The population is dwindling. The rulers know that, for all their efforts, slowly but surely the city is slipping ever farther behind the optimum. Helward Mann is a member of the city's elite. Better than anyone, he knows how tenuous is the city's continued existence. But the world he's about to discover is infinitely stranger than the strange world he believes he knows so well.\", 'authors': {'author': {'id': '23419', 'name': 'Christopher Priest', 'role': None, 'image_url': {'@nophoto': 'false', '#text': 'https://images.gr-assets.com/authors/1299874167p5/23419.jpg'}, 'small_image_url': {'@nophoto': 'false', '#text': 'https://images.gr-assets.com/authors/1299874167p2/23419.jpg'}, 'link': 'https://www.goodreads.com/author/show/23419.Christopher_Priest', 'average_rating': '3.81', 'ratings_count': '34409', 'text_reviews_count': '3852'}}, 'published': '1974', 'work': {'id': '2226603', 'uri': 'kca://work/amzn1.gr.work.v1.Q3RLKyR2_S-V1njZuirYyA'}}\n"
     ]
    }
   ],
   "source": [
    "print(read_list[0].book)"
   ]
  },
  {
   "cell_type": "code",
   "execution_count": 23,
   "metadata": {
    "collapsed": false
   },
   "outputs": [
    {
     "name": "stdout",
     "output_type": "stream",
     "text": [
      "{'id': {'@type': 'integer', '#text': '30689330'}, 'isbn': '1101875682', 'isbn13': '9781101875681', 'text_reviews_count': {'@type': 'integer', '#text': '1016'}, 'uri': 'kca://book/amzn1.gr.book.v1.EfuBM6v5zrf9fIzEDV_fOA', 'title': 'The Stranger in the Woods: The Extraordinary Story of the Last True Hermit', 'title_without_series': 'The Stranger in the Woods: The Extraordinary Story of the Last True Hermit', 'image_url': 'https://images.gr-assets.com/books/1471283634m/30689330.jpg', 'small_image_url': 'https://images.gr-assets.com/books/1471283634s/30689330.jpg', 'large_image_url': None, 'link': 'https://www.goodreads.com/book/show/30689330-the-stranger-in-the-woods', 'num_pages': '203', 'format': 'Hardcover', 'edition_information': None, 'publisher': 'Knopf Publishing Group', 'publication_day': '7', 'publication_year': '2017', 'publication_month': '3', 'average_rating': '3.88', 'ratings_count': '36640', 'description': '<b>Many people dream of escaping modern life, but most will never act on it. This is the remarkable true story of a man who lived alone in the woods of Maine for 27 years, making this dream a reality--not out of anger at the world, but simply because he preferred to live on his own.</b><br /><br />In 1986, a shy and intelligent twenty-year-old named Christopher Knight left his home in Massachusetts, drove to Maine, and disappeared into the forest. He would not have a conversation with another human being until nearly three decades later, when he was arrested for stealing food. Living in a tent even through brutal winters, he had survived by his wits and courage, developing ingenious ways to store edibles and water, and to avoid freezing to death. He broke into nearby cottages for food, clothing, reading material, and other provisions, taking only what he needed but terrifying a community never able to solve the mysterious burglaries. Based on extensive interviews with Knight himself, this is a vividly detailed account of his secluded life--why did he leave? what did he learn?--as well as the challenges he has faced since returning to the world. It is a gripping story of survival that asks fundamental questions about solitude, community, and what makes a good life, and a deeply moving portrait of a man who was determined to live his own way, and succeeded.', 'authors': {'author': {'id': '206768', 'name': 'Michael Finkel', 'role': None, 'image_url': {'@nophoto': 'false', '#text': 'https://images.gr-assets.com/authors/1484405381p5/206768.jpg'}, 'small_image_url': {'@nophoto': 'false', '#text': 'https://images.gr-assets.com/authors/1484405381p2/206768.jpg'}, 'link': 'https://www.goodreads.com/author/show/206768.Michael_Finkel', 'average_rating': '3.87', 'ratings_count': '41783', 'text_reviews_count': '5337'}}, 'published': '2017', 'work': {'id': '51228990', 'uri': 'kca://work/amzn1.gr.work.v1.P80LdcE09viCxfkevgmubg'}}\n"
     ]
    }
   ],
   "source": [
    "print(read_list[1].book)"
   ]
  },
  {
   "cell_type": "code",
   "execution_count": 32,
   "metadata": {
    "collapsed": false
   },
   "outputs": [
    {
     "name": "stdout",
     "output_type": "stream",
     "text": [
      "<class 'dict'>\n"
     ]
    }
   ],
   "source": [
    "print(type(read_list[1].book['authors']))"
   ]
  },
  {
   "cell_type": "code",
   "execution_count": 33,
   "metadata": {
    "collapsed": false
   },
   "outputs": [
    {
     "ename": "TypeError",
     "evalue": "author() got an unexpected keyword argument 'author_dict'",
     "output_type": "error",
     "traceback": [
      "\u001b[0;31m---------------------------------------------------------------------------\u001b[0m",
      "\u001b[0;31mTypeError\u001b[0m                                 Traceback (most recent call last)",
      "\u001b[0;32m<ipython-input-33-4de03f336712>\u001b[0m in \u001b[0;36m<module>\u001b[0;34m()\u001b[0m\n\u001b[0;32m----> 1\u001b[0;31m \u001b[0mauthor\u001b[0m \u001b[0;34m=\u001b[0m \u001b[0mgc\u001b[0m\u001b[0;34m.\u001b[0m\u001b[0mauthor\u001b[0m\u001b[0;34m(\u001b[0m\u001b[0mauthor_dict\u001b[0m\u001b[0;34m=\u001b[0m\u001b[0mread_list\u001b[0m\u001b[0;34m[\u001b[0m\u001b[0;36m1\u001b[0m\u001b[0;34m]\u001b[0m\u001b[0;34m.\u001b[0m\u001b[0mbook\u001b[0m\u001b[0;34m[\u001b[0m\u001b[0;34m'authors'\u001b[0m\u001b[0;34m]\u001b[0m\u001b[0;34m)\u001b[0m\u001b[0;34m\u001b[0m\u001b[0;34m\u001b[0m\u001b[0m\n\u001b[0m",
      "\u001b[0;31mTypeError\u001b[0m: author() got an unexpected keyword argument 'author_dict'"
     ]
    }
   ],
   "source": [
    "author = gc.author(author_dict=read_list[1].book['authors'])"
   ]
  },
  {
   "cell_type": "code",
   "execution_count": 35,
   "metadata": {
    "collapsed": false
   },
   "outputs": [],
   "source": [
    "author = gc.author(author_id=read_list[1].book['authors']['author']['id'])"
   ]
  },
  {
   "cell_type": "code",
   "execution_count": 36,
   "metadata": {
    "collapsed": false
   },
   "outputs": [
    {
     "data": {
      "text/plain": [
       "betterreads.author.GoodreadsAuthor"
      ]
     },
     "execution_count": 36,
     "metadata": {},
     "output_type": "execute_result"
    }
   ],
   "source": [
    "type(author)"
   ]
  },
  {
   "cell_type": "code",
   "execution_count": 37,
   "metadata": {
    "collapsed": false
   },
   "outputs": [
    {
     "name": "stdout",
     "output_type": "stream",
     "text": [
      "male\n"
     ]
    }
   ],
   "source": [
    "print(author.gender)"
   ]
  },
  {
   "cell_type": "code",
   "execution_count": 40,
   "metadata": {
    "collapsed": false
   },
   "outputs": [],
   "source": [
    "books_on_shelf = []"
   ]
  },
  {
   "cell_type": "code",
   "execution_count": 48,
   "metadata": {
    "collapsed": false
   },
   "outputs": [],
   "source": [
    "for x in range(len(read_list)):\n",
    "    books_on_shelf.append(read_list[x].book['title'])\n",
    "    "
   ]
  },
  {
   "cell_type": "code",
   "execution_count": 43,
   "metadata": {
    "collapsed": false
   },
   "outputs": [
    {
     "data": {
      "text/plain": [
       "'The Inverted World'"
      ]
     },
     "execution_count": 43,
     "metadata": {},
     "output_type": "execute_result"
    }
   ],
   "source": [
    "x = 0\n",
    "read_list[x].book['title']"
   ]
  },
  {
   "cell_type": "code",
   "execution_count": 45,
   "metadata": {
    "collapsed": false
   },
   "outputs": [
    {
     "data": {
      "text/plain": [
       "list"
      ]
     },
     "execution_count": 45,
     "metadata": {},
     "output_type": "execute_result"
    }
   ],
   "source": [
    "type(read_list)"
   ]
  },
  {
   "cell_type": "code",
   "execution_count": 49,
   "metadata": {
    "collapsed": true
   },
   "outputs": [
    {
     "name": "stdout",
     "output_type": "stream",
     "text": [
      "['The Inverted World', 'The Stranger in the Woods: The Extraordinary Story of the Last True Hermit', \"Man's Search for Meaning\", 'The Outsider', 'Bad Blood: Secrets and Lies in a Silicon Valley Startup', 'Artemis', 'Educated', \"Factfulness: Ten Reasons We're Wrong About the World – and Why Things Are Better Than You Think\", 'American War', 'Stoner', 'In Cold Blood', 'The Autobiography of Gucci Mane', 'The Trident: The Forging and Reforging of a Navy SEAL Leader', 'Fire and Fury: Inside the Trump White House', 'The Lost City of the Monkey God: A True Story', 'The Underground Railroad', \"Red Notice: A True Story of High Finance, Murder, and One Man's Fight for Justice\", 'Station Eleven', 'The Road', 'Dark Matter', 'Morning Star (Red Rising, #3)', 'The Way of Kings (The Stormlight Archive, #1)', \"The Handmaid's Tale\", 'Just Mercy: A Story of Justice and Redemption', 'American Kingpin: The Epic Hunt for the Criminal Mastermind Behind the Silk Road', 'Scores: How I Opened the Hottest Strip Club in New York City, Was Extorted out of Millions by the Gambino Family, and Became One of the Most Successful Mafia Informants in FBI History', 'The Rap Year Book: The Most Important Rap Song From Every Year Since 1979, Discussed, Debated, and Deconstructed', 'The Princess Diarist', 'A Confederacy of Dunces', 'American Gods', 'The Lost World (Jurassic Park #2)', 'Jurassic Park (Jurassic Park, #1)', 'Golden Son (Red Rising, #2)', 'Red Rising (Red Rising, #1)', 'Micro', 'Harry Potter and the Cursed Child: Parts One and Two (Harry Potter, #8)', 'Timeline', 'The Diamond Throne (The Elenium, #1)', 'Ready Player One (Ready Player One, #1)', 'Stuff Matters: Exploring the Marvelous Materials That Shape Our Man-Made World', 'Belgarath the Sorcerer', 'Tricky Twenty-Two (Stephanie Plum, #22)', 'Between the World and Me', 'The Guilty (Will Robie, #4)', 'Thomas Jefferson and the Tripoli Pirates: The Forgotten War that Changed American History', 'Rogue Lawyer (Rogue Lawyer, #1)', 'Cross Justice (Alex Cross, #23)', 'What If?: Serious Scientific Answers to Absurd Hypothetical Questions', \"Killing Reagan: The Violent Assault That Changed a Presidency (Bill O'Reilly's Killing Series)\", 'The Martian', 'Personal Foul', 'Is Everyone Hanging Out Without Me?', 'Modern Romance', 'The Autobiography of Malcolm X', 'Basketball on Paper: Rules and Tools for Performance Analysis', 'The Forever War (The Forever War, #1)', 'Siddhartha', \"Dataclysm: Who We Are (When We Think No One's Looking)\", 'Insurgent (Divergent, #2)', 'Divergent (Divergent, #1)', 'Mockingjay (The Hunger Games, #3)', 'Catching Fire (The Hunger Games, #2)', 'The Catcher in the Rye', 'The Ocean at the End of the Lane', 'The Fault in Our Stars', 'The Sixth Extinction: An Unnatural History', 'The Invisible Gorilla: And Other Ways Our Intuitions Deceive Us', 'American Psycho', 'Born to Run: A Hidden Tribe, Superathletes, and the Greatest Race the World Has Never Seen', 'Think Like a Freak', 'Flash Boys: A Wall Street Revolt', 'The Unthinkable: Who Survives When Disaster Strikes - and Why', 'The Seeress of Kell (The Malloreon, #5)', 'Sorceress of Darshiva (The Malloreon, #4)', 'Demon Lord of Karanda (The Malloreon, #3)', 'King of the Murgos (The Malloreon, #2)', 'Guardians of the West (The Malloreon, #1)', 'Castle of Wizardry (The Belgariad, #4)', 'The Upside of Irrationality: The Unexpected Benefits of Defying Logic at Work and at Home', \"Quiet: The Power of Introverts in a World That Can't Stop Talking\", 'The Honest Truth About Dishonesty: How We Lie to Everyone - Especially Ourselves', 'David and Goliath: Underdogs, Misfits, and the Art of Battling Giants', \"Floating City: A Rogue Sociologist Lost and Found in New York's Underground Economy\", 'Next', 'The Sports Gene: Inside the Science of Extraordinary Athletic Performance', 'Bobby Fischer Goes to War: How the Soviets Lost the Most Extraordinary Chess Match of All Time', 'The Green Mile', 'The Disaster Artist: My Life Inside The Room, the Greatest Bad Movie Ever Made', 'The Secret Race: Inside the Hidden World of the Tour de France: Doping, Cover-ups, and Winning at All Costs', 'Meditations', 'Dollars and Sex: How Economics Influences Sex and Love', 'Total Recall: My Unbelievably True Life Story', 'Airframe', 'The Bourne Identity (Jason Bourne, #1)', 'The Hunger Games (The Hunger Games, #1)', 'Fahrenheit 451', 'Scorecasting: The Hidden Influences Behind How Sports Are Played and Games Are Won', 'Deception Point', 'Slaughterhouse-Five', 'Animal Farm', 'Rich Dad, Poor Dad', 'The Andromeda Strain (Andromeda #1)', 'Lord Brocktree (Redwall, #13)', 'Super Crunchers: Why Thinking-By-Numbers Is the New Way to Be Smart', 'A Season on the Brink: A Year with Bob Knight and the Indiana Hoosiers', 'Moneyball: The Art of Winning an Unfair Game', 'Drive: The Surprising Truth About What Motivates Us', \"Deer Hunting with Jesus: Dispatches from America's Class War\", 'The Heroin Diaries: A Year In The Life Of A Shattered Rock Star', 'When Genius Failed: The Rise and Fall of Long-Term Capital Management', 'Predictably Irrational: The Hidden Forces That Shape Our Decisions', \"One of a Kind: The Rise and Fall of Stuey, 'The Kid', Ungar, The World's Greatest Poker Player\", 'Gang Leader for a Day: A Rogue Sociologist Takes to the Streets', 'Talent is Overrated: What Really Separates World-Class Performers from Everybody Else', 'How to Win at the Sport of Business: If I Can Do It, You Can Do It', 'On Killing: The Psychological Cost of Learning to Kill in War and Society', 'Blink: The Power of Thinking Without Thinking', 'Too Big to Fail: The Inside Story of How Wall Street and Washington Fought to Save the Financial System from Crisis — and Themselves', \"Liar's Poker\", 'SuperFreakonomics: Global Cooling, Patriotic Prostitutes And Why Suicide Bombers Should Buy Life Insurance', 'The Wisdom of Crowds', 'Soccernomics', 'The Perks of Being a Wallflower', 'Watership Down (Watership Down, #1)', 'Queen of Sorcery (The Belgariad, #2)', 'Pawn of Prophecy (The Belgariad, #1)', \"Enchanters' End Game (The Belgariad, #5)\", \"Magician's Gambit (The Belgariad, #3)\", 'The Da Vinci Code (Robert Langdon, #2)', 'Digital Fortress', 'Angels & Demons (Robert Langdon, #1)', 'Freakonomics: A Rogue Economist Explores the Hidden Side of Everything', 'Outliers: The Story of Success', 'The Giver', 'Brave New World', \"Ender's Game (Ender's Saga, #1)\", 'Artemis Fowl (Artemis Fowl, #1)', 'Lord of the Flies', '1984', 'Harry Potter and the Chamber of Secrets (Harry Potter, #2)', 'Harry Potter and the Order of the Phoenix (Harry Potter, #5)', 'Harry Potter and the Half-Blood Prince (Harry Potter, #6)', 'Harry Potter and the Goblet of Fire (Harry Potter, #4)', 'Harry Potter and the Prisoner of Azkaban (Harry Potter, #3)', 'Harry Potter and the Deathly Hallows (Harry Potter, #7)', \"Harry Potter and the Sorcerer's Stone (Harry Potter, #1)\", 'The Hobbit or There and Back Again', 'Prey', 'Sphere', 'Rainbow Six (Jack Ryan Universe, #10)']\n"
     ]
    }
   ],
   "source": [
    "print(books_on_shelf)"
   ]
  },
  {
   "cell_type": "code",
   "execution_count": 50,
   "metadata": {
    "collapsed": true
   },
   "outputs": [],
   "source": [
    "authors_on_shelf = []"
   ]
  },
  {
   "cell_type": "code",
   "execution_count": 54,
   "metadata": {
    "collapsed": false
   },
   "outputs": [],
   "source": [
    "for b in range(len(read_list)):\n",
    "    authors_on_shelf.append(read_list[b].book['authors']['author']['id'])"
   ]
  },
  {
   "cell_type": "code",
   "execution_count": 55,
   "metadata": {
    "collapsed": true
   },
   "outputs": [
    {
     "name": "stdout",
     "output_type": "stream",
     "text": [
      "['23419', '206768', '2782', '3389', '17575761', '6540057', '16121977', '2790706', '15291182', '51229', '431149', '4821694', '6547905', '188983', '12577', '10029', '8344235', '2786093', '4178', '442240', '6474348', '38550', '3472', '4396806', '3164188', '15081550', '6985009', '90150', '3049', '1221698', '5194', '5194', '6474348', '6474348', '5194', '5042201', '5194', '8732', '31712', '7126368', '8732', '2384', '1214964', '9291', '273823', '721', '3780', '3089156', '27281', '6540057', '3210894', '194416', '9802136', '17435', '237432', '12476', '1113469', '8058863', '4039811', '4039811', '153394', '153394', '819789', '1221698', '1406384', '45840', '550010', '2751', '133538', '798', '776', '1186320', '8732', '8732', '8732', '8732', '8732', '8732', '788461', '4101935', '788461', '1439', '4315245', '5194', '7164089', '7674', '3389', '6949593', '6895821', '17212', '6457354', '67084', '5194', '5293', '153394', '1630', '8302512', '630', '2778055', '3706', '600', '5194', '5329', '184116', '42993', '776', '96150', '447030', '10758', '762', '788461', '65696', '4315245', '988764', '2070271', '44306', '1439', '3012335', '776', '798', '38391', '45528', '12898', '7717', '8732', '8732', '8732', '8732', '630', '630', '630', '798', '1439', '2493', '3487', '589', '10896', '306', '3706', '1077326', '1077326', '1077326', '1077326', '1077326', '1077326', '1077326', '656983', '5194', '5194', '3892']\n"
     ]
    }
   ],
   "source": [
    "print(authors_on_shelf)"
   ]
  },
  {
   "cell_type": "code",
   "execution_count": 57,
   "metadata": {
    "collapsed": true
   },
   "outputs": [],
   "source": [
    "gender = []\n",
    "\n",
    "for idnum in authors_on_shelf:\n",
    "    author = gc.author(author_id=idnum)\n",
    "    gender.append(author.gender)\n",
    "    time.sleep(1.5)"
   ]
  },
  {
   "cell_type": "code",
   "execution_count": 58,
   "metadata": {
    "collapsed": false
   },
   "outputs": [
    {
     "name": "stdout",
     "output_type": "stream",
     "text": [
      "['male', 'male', 'male', 'male', 'male', 'male', None, 'male', None, 'male', 'male', None, None, 'male', 'male', 'male', 'male', 'female', 'male', None, None, 'male', 'female', 'male', 'male', 'male', None, 'female', 'male', 'male', 'male', 'male', None, None, 'male', 'male', 'male', 'male', 'male', 'male', 'male', 'female', 'male', 'male', 'male', 'male', 'male', 'male', None, 'male', None, None, 'male', 'male', None, 'male', 'male', 'male', 'female', 'female', 'female', 'female', 'male', 'male', None, 'female', None, 'male', 'male', 'male', 'male', 'female', 'male', 'male', 'male', 'male', 'male', 'male', 'male', 'female', 'male', 'male', 'male', 'male', 'male', None, 'male', 'male', 'male', 'male', None, 'male', 'male', 'male', 'female', 'male', None, 'male', 'male', 'male', 'male', 'male', 'male', None, 'male', 'male', 'male', 'male', 'male', 'male', 'male', None, 'male', 'male', 'male', 'male', 'male', 'male', 'male', 'male', 'male', 'male', 'male', 'male', 'male', 'male', 'male', 'male', 'male', 'male', 'male', 'male', 'male', 'female', 'male', 'male', 'male', 'male', 'male', 'female', 'female', 'female', 'female', 'female', 'female', 'female', 'male', 'male', 'male', 'male']\n"
     ]
    }
   ],
   "source": [
    "print(gender)"
   ]
  },
  {
   "cell_type": "code",
   "execution_count": 62,
   "metadata": {
    "collapsed": true
   },
   "outputs": [],
   "source": [
    "from bokeh.io import show, output_file\n",
    "from bokeh.plotting import figure\n",
    "\n",
    "## output_file(\"bars.html\")\n",
    "\n",
    "genders = ['Male', 'Female', 'None']\n",
    "counts = [110, 20, 20]\n",
    "\n",
    "p = figure(x_range=genders, plot_height=250, title=\"Gender Counts\",\n",
    "           toolbar_location=None, tools=\"\")\n",
    "\n",
    "p.vbar(x=genders, top=counts, width=0.9)\n",
    "\n",
    "p.xgrid.grid_line_color = None\n",
    "p.y_range.start = 0\n",
    "\n",
    "show(p)"
   ]
  },
  {
   "cell_type": "code",
   "execution_count": 60,
   "metadata": {
    "collapsed": true
   },
   "outputs": [],
   "source": [
    "gender_counts = []\n",
    "\n",
    "for a in set(gender):\n",
    "    gender_counts.append([a, gender.count(a)])"
   ]
  },
  {
   "cell_type": "code",
   "execution_count": 61,
   "metadata": {
    "collapsed": false
   },
   "outputs": [
    {
     "data": {
      "text/plain": [
       "[['male', 110], ['female', 20], [None, 20]]"
      ]
     },
     "execution_count": 61,
     "metadata": {},
     "output_type": "execute_result"
    }
   ],
   "source": [
    "gender_counts"
   ]
  },
  {
   "cell_type": "code",
   "execution_count": null,
   "metadata": {
    "collapsed": true
   },
   "outputs": [],
   "source": []
  }
 ],
 "metadata": {
  "kernelspec": {
   "display_name": "Python 3",
   "language": "python",
   "name": "python3"
  },
  "language_info": {
   "codemirror_mode": {
    "name": "ipython",
    "version": 3
   },
   "file_extension": ".py",
   "mimetype": "text/x-python",
   "name": "python",
   "nbconvert_exporter": "python",
   "pygments_lexer": "ipython3",
   "version": "3.6.7"
  }
 },
 "nbformat": 4,
 "nbformat_minor": 2
}
